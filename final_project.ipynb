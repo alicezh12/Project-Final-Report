{
 "cells": [
  {
   "cell_type": "code",
   "execution_count": 1,
   "id": "8d2c8b59-3af3-41e7-bcb7-b168fe2f5756",
   "metadata": {},
   "outputs": [
    {
     "name": "stdout",
     "output_type": "stream",
     "text": [
      "[1] \"Hello world!\"\n"
     ]
    }
   ],
   "source": [
    "print(\"Hello world!\")"
   ]
  },
  {
   "cell_type": "code",
   "execution_count": 2,
   "id": "b62839b6-b2d9-4aaf-90a9-0348f3da2bc4",
   "metadata": {},
   "outputs": [
    {
     "data": {
      "text/html": [
       "'Hello'"
      ],
      "text/latex": [
       "'Hello'"
      ],
      "text/markdown": [
       "'Hello'"
      ],
      "text/plain": [
       "[1] \"Hello\""
      ]
     },
     "metadata": {},
     "output_type": "display_data"
    }
   ],
   "source": [
    "\"Hello\""
   ]
  },
  {
   "cell_type": "code",
   "execution_count": 1,
   "id": "4347e70b-3a96-47e6-af11-e9bc3f6dfcc7",
   "metadata": {},
   "outputs": [
    {
     "name": "stdout",
     "output_type": "stream",
     "text": [
      "[1] \"Hello world 2!\"\n"
     ]
    }
   ],
   "source": [
    "print(\"Hello world 2!\")"
   ]
  },
  {
   "cell_type": "code",
   "execution_count": null,
   "id": "4a0ba9e8-632f-4ced-9629-c5fc003481bf",
   "metadata": {},
   "outputs": [],
   "source": []
  }
 ],
 "metadata": {
  "kernelspec": {
   "display_name": "R",
   "language": "R",
   "name": "ir"
  },
  "language_info": {
   "codemirror_mode": "r",
   "file_extension": ".r",
   "mimetype": "text/x-r-source",
   "name": "R",
   "pygments_lexer": "r",
   "version": "4.3.3"
  }
 },
 "nbformat": 4,
 "nbformat_minor": 5
}
