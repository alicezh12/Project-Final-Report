{
 "cells": [
  {
   "cell_type": "markdown",
   "id": "359650d3-f278-4f22-8051-83d6b3a88694",
   "metadata": {},
   "source": [
    "# Title"
   ]
  },
  {
   "cell_type": "markdown",
   "id": "1b9946a2-d789-4366-86c5-60fa2145d030",
   "metadata": {},
   "source": [
    "## Introduction"
   ]
  },
  {
   "cell_type": "markdown",
   "id": "6056d272-d4cb-4fbc-a0a7-faa2194b498b",
   "metadata": {},
   "source": []
  },
  {
   "cell_type": "markdown",
   "id": "06743fe4-bf7c-461a-a77b-59da7dad86fe",
   "metadata": {},
   "source": [
    "**Question**: How do age and experience level predict the number of hours played?"
   ]
  },
  {
   "cell_type": "markdown",
   "id": "0fb9db13-a9de-4891-8ae8-e4e20c3992e9",
   "metadata": {},
   "source": []
  },
  {
   "cell_type": "markdown",
   "id": "164d80ef-92f3-432b-b613-f836830eda8c",
   "metadata": {},
   "source": [
    "## Methods & Results"
   ]
  },
  {
   "cell_type": "code",
   "execution_count": 1,
   "id": "1be6e708-8c26-4aca-8baf-9923b640f905",
   "metadata": {},
   "outputs": [
    {
     "name": "stderr",
     "output_type": "stream",
     "text": [
      "── \u001b[1mAttaching core tidyverse packages\u001b[22m ──────────────────────── tidyverse 2.0.0 ──\n",
      "\u001b[32m✔\u001b[39m \u001b[34mdplyr    \u001b[39m 1.1.4     \u001b[32m✔\u001b[39m \u001b[34mreadr    \u001b[39m 2.1.5\n",
      "\u001b[32m✔\u001b[39m \u001b[34mforcats  \u001b[39m 1.0.0     \u001b[32m✔\u001b[39m \u001b[34mstringr  \u001b[39m 1.5.1\n",
      "\u001b[32m✔\u001b[39m \u001b[34mggplot2  \u001b[39m 3.5.1     \u001b[32m✔\u001b[39m \u001b[34mtibble   \u001b[39m 3.2.1\n",
      "\u001b[32m✔\u001b[39m \u001b[34mlubridate\u001b[39m 1.9.3     \u001b[32m✔\u001b[39m \u001b[34mtidyr    \u001b[39m 1.3.1\n",
      "\u001b[32m✔\u001b[39m \u001b[34mpurrr    \u001b[39m 1.0.2     \n",
      "── \u001b[1mConflicts\u001b[22m ────────────────────────────────────────── tidyverse_conflicts() ──\n",
      "\u001b[31m✖\u001b[39m \u001b[34mdplyr\u001b[39m::\u001b[32mfilter()\u001b[39m masks \u001b[34mstats\u001b[39m::filter()\n",
      "\u001b[31m✖\u001b[39m \u001b[34mdplyr\u001b[39m::\u001b[32mlag()\u001b[39m    masks \u001b[34mstats\u001b[39m::lag()\n",
      "\u001b[36mℹ\u001b[39m Use the conflicted package (\u001b[3m\u001b[34m<http://conflicted.r-lib.org/>\u001b[39m\u001b[23m) to force all conflicts to become errors\n"
     ]
    }
   ],
   "source": [
    "library(tidyverse)\n",
    "library(repr)\n",
    "options(repr.matrix.max.rows = 6)"
   ]
  },
  {
   "cell_type": "code",
   "execution_count": 2,
   "id": "5c537516-8b66-4366-b055-3a9883de45be",
   "metadata": {},
   "outputs": [
    {
     "name": "stderr",
     "output_type": "stream",
     "text": [
      "\u001b[1mRows: \u001b[22m\u001b[34m196\u001b[39m \u001b[1mColumns: \u001b[22m\u001b[34m9\u001b[39m\n",
      "\u001b[36m──\u001b[39m \u001b[1mColumn specification\u001b[22m \u001b[36m────────────────────────────────────────────────────────\u001b[39m\n",
      "\u001b[1mDelimiter:\u001b[22m \",\"\n",
      "\u001b[31mchr\u001b[39m (4): experience, hashedEmail, name, gender\n",
      "\u001b[32mdbl\u001b[39m (2): played_hours, age\n",
      "\u001b[33mlgl\u001b[39m (3): subscribe, individualId, organizationName\n",
      "\n",
      "\u001b[36mℹ\u001b[39m Use `spec()` to retrieve the full column specification for this data.\n",
      "\u001b[36mℹ\u001b[39m Specify the column types or set `show_col_types = FALSE` to quiet this message.\n"
     ]
    },
    {
     "data": {
      "text/html": [
       "<table class=\"dataframe\">\n",
       "<caption>A spec_tbl_df: 196 × 9</caption>\n",
       "<thead>\n",
       "\t<tr><th scope=col>experience</th><th scope=col>subscribe</th><th scope=col>hashedEmail</th><th scope=col>played_hours</th><th scope=col>name</th><th scope=col>gender</th><th scope=col>age</th><th scope=col>individualId</th><th scope=col>organizationName</th></tr>\n",
       "\t<tr><th scope=col>&lt;chr&gt;</th><th scope=col>&lt;lgl&gt;</th><th scope=col>&lt;chr&gt;</th><th scope=col>&lt;dbl&gt;</th><th scope=col>&lt;chr&gt;</th><th scope=col>&lt;chr&gt;</th><th scope=col>&lt;dbl&gt;</th><th scope=col>&lt;lgl&gt;</th><th scope=col>&lt;lgl&gt;</th></tr>\n",
       "</thead>\n",
       "<tbody>\n",
       "\t<tr><td>Pro    </td><td> TRUE</td><td>f6daba428a5e19a3d47574858c13550499be23603422e6a0ee9728f8b53e192d</td><td>30.3</td><td>Morgan   </td><td>Male</td><td> 9</td><td>NA</td><td>NA</td></tr>\n",
       "\t<tr><td>Veteran</td><td> TRUE</td><td>f3c813577c458ba0dfef80996f8f32c93b6e8af1fa939732842f2312358a88e9</td><td> 3.8</td><td>Christian</td><td>Male</td><td>17</td><td>NA</td><td>NA</td></tr>\n",
       "\t<tr><td>Veteran</td><td>FALSE</td><td>b674dd7ee0d24096d1c019615ce4d12b20fcbff12d79d3c5a9d2118eb7ccbb28</td><td> 0.0</td><td>Blake    </td><td>Male</td><td>17</td><td>NA</td><td>NA</td></tr>\n",
       "\t<tr><td>⋮</td><td>⋮</td><td>⋮</td><td>⋮</td><td>⋮</td><td>⋮</td><td>⋮</td><td>⋮</td><td>⋮</td></tr>\n",
       "\t<tr><td>Amateur</td><td>FALSE</td><td>d572f391d452b76ea2d7e5e53a3d38bfd7499c7399db299bd4fedb06a46ad5bb</td><td>0.0</td><td>Dylan </td><td>Prefer not to say</td><td>17</td><td>NA</td><td>NA</td></tr>\n",
       "\t<tr><td>Amateur</td><td>FALSE</td><td>f19e136ddde68f365afc860c725ccff54307dedd13968e896a9f890c40aea436</td><td>2.3</td><td>Harlow</td><td>Male             </td><td>17</td><td>NA</td><td>NA</td></tr>\n",
       "\t<tr><td>Pro    </td><td> TRUE</td><td>d9473710057f7d42f36570f0be83817a4eea614029ff90cf50d8889cdd729d11</td><td>0.2</td><td>Ahmed </td><td>Other            </td><td>91</td><td>NA</td><td>NA</td></tr>\n",
       "</tbody>\n",
       "</table>\n"
      ],
      "text/latex": [
       "A spec\\_tbl\\_df: 196 × 9\n",
       "\\begin{tabular}{lllllllll}\n",
       " experience & subscribe & hashedEmail & played\\_hours & name & gender & age & individualId & organizationName\\\\\n",
       " <chr> & <lgl> & <chr> & <dbl> & <chr> & <chr> & <dbl> & <lgl> & <lgl>\\\\\n",
       "\\hline\n",
       "\t Pro     &  TRUE & f6daba428a5e19a3d47574858c13550499be23603422e6a0ee9728f8b53e192d & 30.3 & Morgan    & Male &  9 & NA & NA\\\\\n",
       "\t Veteran &  TRUE & f3c813577c458ba0dfef80996f8f32c93b6e8af1fa939732842f2312358a88e9 &  3.8 & Christian & Male & 17 & NA & NA\\\\\n",
       "\t Veteran & FALSE & b674dd7ee0d24096d1c019615ce4d12b20fcbff12d79d3c5a9d2118eb7ccbb28 &  0.0 & Blake     & Male & 17 & NA & NA\\\\\n",
       "\t ⋮ & ⋮ & ⋮ & ⋮ & ⋮ & ⋮ & ⋮ & ⋮ & ⋮\\\\\n",
       "\t Amateur & FALSE & d572f391d452b76ea2d7e5e53a3d38bfd7499c7399db299bd4fedb06a46ad5bb & 0.0 & Dylan  & Prefer not to say & 17 & NA & NA\\\\\n",
       "\t Amateur & FALSE & f19e136ddde68f365afc860c725ccff54307dedd13968e896a9f890c40aea436 & 2.3 & Harlow & Male              & 17 & NA & NA\\\\\n",
       "\t Pro     &  TRUE & d9473710057f7d42f36570f0be83817a4eea614029ff90cf50d8889cdd729d11 & 0.2 & Ahmed  & Other             & 91 & NA & NA\\\\\n",
       "\\end{tabular}\n"
      ],
      "text/markdown": [
       "\n",
       "A spec_tbl_df: 196 × 9\n",
       "\n",
       "| experience &lt;chr&gt; | subscribe &lt;lgl&gt; | hashedEmail &lt;chr&gt; | played_hours &lt;dbl&gt; | name &lt;chr&gt; | gender &lt;chr&gt; | age &lt;dbl&gt; | individualId &lt;lgl&gt; | organizationName &lt;lgl&gt; |\n",
       "|---|---|---|---|---|---|---|---|---|\n",
       "| Pro     |  TRUE | f6daba428a5e19a3d47574858c13550499be23603422e6a0ee9728f8b53e192d | 30.3 | Morgan    | Male |  9 | NA | NA |\n",
       "| Veteran |  TRUE | f3c813577c458ba0dfef80996f8f32c93b6e8af1fa939732842f2312358a88e9 |  3.8 | Christian | Male | 17 | NA | NA |\n",
       "| Veteran | FALSE | b674dd7ee0d24096d1c019615ce4d12b20fcbff12d79d3c5a9d2118eb7ccbb28 |  0.0 | Blake     | Male | 17 | NA | NA |\n",
       "| ⋮ | ⋮ | ⋮ | ⋮ | ⋮ | ⋮ | ⋮ | ⋮ | ⋮ |\n",
       "| Amateur | FALSE | d572f391d452b76ea2d7e5e53a3d38bfd7499c7399db299bd4fedb06a46ad5bb | 0.0 | Dylan  | Prefer not to say | 17 | NA | NA |\n",
       "| Amateur | FALSE | f19e136ddde68f365afc860c725ccff54307dedd13968e896a9f890c40aea436 | 2.3 | Harlow | Male              | 17 | NA | NA |\n",
       "| Pro     |  TRUE | d9473710057f7d42f36570f0be83817a4eea614029ff90cf50d8889cdd729d11 | 0.2 | Ahmed  | Other             | 91 | NA | NA |\n",
       "\n"
      ],
      "text/plain": [
       "    experience subscribe\n",
       "1   Pro         TRUE    \n",
       "2   Veteran     TRUE    \n",
       "3   Veteran    FALSE    \n",
       "⋮   ⋮          ⋮        \n",
       "194 Amateur    FALSE    \n",
       "195 Amateur    FALSE    \n",
       "196 Pro         TRUE    \n",
       "    hashedEmail                                                     \n",
       "1   f6daba428a5e19a3d47574858c13550499be23603422e6a0ee9728f8b53e192d\n",
       "2   f3c813577c458ba0dfef80996f8f32c93b6e8af1fa939732842f2312358a88e9\n",
       "3   b674dd7ee0d24096d1c019615ce4d12b20fcbff12d79d3c5a9d2118eb7ccbb28\n",
       "⋮   ⋮                                                               \n",
       "194 d572f391d452b76ea2d7e5e53a3d38bfd7499c7399db299bd4fedb06a46ad5bb\n",
       "195 f19e136ddde68f365afc860c725ccff54307dedd13968e896a9f890c40aea436\n",
       "196 d9473710057f7d42f36570f0be83817a4eea614029ff90cf50d8889cdd729d11\n",
       "    played_hours name      gender            age individualId organizationName\n",
       "1   30.3         Morgan    Male               9  NA           NA              \n",
       "2    3.8         Christian Male              17  NA           NA              \n",
       "3    0.0         Blake     Male              17  NA           NA              \n",
       "⋮   ⋮            ⋮         ⋮                 ⋮   ⋮            ⋮               \n",
       "194 0.0          Dylan     Prefer not to say 17  NA           NA              \n",
       "195 2.3          Harlow    Male              17  NA           NA              \n",
       "196 0.2          Ahmed     Other             91  NA           NA              "
      ]
     },
     "metadata": {},
     "output_type": "display_data"
    },
    {
     "name": "stderr",
     "output_type": "stream",
     "text": [
      "\u001b[1mRows: \u001b[22m\u001b[34m1535\u001b[39m \u001b[1mColumns: \u001b[22m\u001b[34m5\u001b[39m\n",
      "\u001b[36m──\u001b[39m \u001b[1mColumn specification\u001b[22m \u001b[36m────────────────────────────────────────────────────────\u001b[39m\n",
      "\u001b[1mDelimiter:\u001b[22m \",\"\n",
      "\u001b[31mchr\u001b[39m (3): hashedEmail, start_time, end_time\n",
      "\u001b[32mdbl\u001b[39m (2): original_start_time, original_end_time\n",
      "\n",
      "\u001b[36mℹ\u001b[39m Use `spec()` to retrieve the full column specification for this data.\n",
      "\u001b[36mℹ\u001b[39m Specify the column types or set `show_col_types = FALSE` to quiet this message.\n"
     ]
    },
    {
     "data": {
      "text/html": [
       "<table class=\"dataframe\">\n",
       "<caption>A spec_tbl_df: 1535 × 5</caption>\n",
       "<thead>\n",
       "\t<tr><th scope=col>hashedEmail</th><th scope=col>start_time</th><th scope=col>end_time</th><th scope=col>original_start_time</th><th scope=col>original_end_time</th></tr>\n",
       "\t<tr><th scope=col>&lt;chr&gt;</th><th scope=col>&lt;chr&gt;</th><th scope=col>&lt;chr&gt;</th><th scope=col>&lt;dbl&gt;</th><th scope=col>&lt;dbl&gt;</th></tr>\n",
       "</thead>\n",
       "<tbody>\n",
       "\t<tr><td>bfce39c89d6549f2bb94d8064d3ce69dc3d7e72b38f431d8aa0c4bf95ccee6bf</td><td>30/06/2024 18:12</td><td>30/06/2024 18:24</td><td>1.71977e+12</td><td>1.71977e+12</td></tr>\n",
       "\t<tr><td>36d9cbb4c6bc0c1a6911436d2da0d09ec625e43e6552f575d4acc9cf487c4686</td><td>17/06/2024 23:33</td><td>17/06/2024 23:46</td><td>1.71867e+12</td><td>1.71867e+12</td></tr>\n",
       "\t<tr><td>f8f5477f5a2e53616ae37421b1c660b971192bd8ff77e3398304c7ae42581fdc</td><td>25/07/2024 17:34</td><td>25/07/2024 17:57</td><td>1.72193e+12</td><td>1.72193e+12</td></tr>\n",
       "\t<tr><td>⋮</td><td>⋮</td><td>⋮</td><td>⋮</td><td>⋮</td></tr>\n",
       "\t<tr><td>fd6563a4e0f6f4273580e5fedbd8dda64990447aea5a33cbb5e894a3867ca44d</td><td>28/07/2024 15:36</td><td>28/07/2024 15:57</td><td>1.72218e+12</td><td>1.72218e+12</td></tr>\n",
       "\t<tr><td>fd6563a4e0f6f4273580e5fedbd8dda64990447aea5a33cbb5e894a3867ca44d</td><td>25/07/2024 06:15</td><td>25/07/2024 06:22</td><td>1.72189e+12</td><td>1.72189e+12</td></tr>\n",
       "\t<tr><td>36d9cbb4c6bc0c1a6911436d2da0d09ec625e43e6552f575d4acc9cf487c4686</td><td>20/05/2024 02:26</td><td>20/05/2024 02:45</td><td>1.71617e+12</td><td>1.71617e+12</td></tr>\n",
       "</tbody>\n",
       "</table>\n"
      ],
      "text/latex": [
       "A spec\\_tbl\\_df: 1535 × 5\n",
       "\\begin{tabular}{lllll}\n",
       " hashedEmail & start\\_time & end\\_time & original\\_start\\_time & original\\_end\\_time\\\\\n",
       " <chr> & <chr> & <chr> & <dbl> & <dbl>\\\\\n",
       "\\hline\n",
       "\t bfce39c89d6549f2bb94d8064d3ce69dc3d7e72b38f431d8aa0c4bf95ccee6bf & 30/06/2024 18:12 & 30/06/2024 18:24 & 1.71977e+12 & 1.71977e+12\\\\\n",
       "\t 36d9cbb4c6bc0c1a6911436d2da0d09ec625e43e6552f575d4acc9cf487c4686 & 17/06/2024 23:33 & 17/06/2024 23:46 & 1.71867e+12 & 1.71867e+12\\\\\n",
       "\t f8f5477f5a2e53616ae37421b1c660b971192bd8ff77e3398304c7ae42581fdc & 25/07/2024 17:34 & 25/07/2024 17:57 & 1.72193e+12 & 1.72193e+12\\\\\n",
       "\t ⋮ & ⋮ & ⋮ & ⋮ & ⋮\\\\\n",
       "\t fd6563a4e0f6f4273580e5fedbd8dda64990447aea5a33cbb5e894a3867ca44d & 28/07/2024 15:36 & 28/07/2024 15:57 & 1.72218e+12 & 1.72218e+12\\\\\n",
       "\t fd6563a4e0f6f4273580e5fedbd8dda64990447aea5a33cbb5e894a3867ca44d & 25/07/2024 06:15 & 25/07/2024 06:22 & 1.72189e+12 & 1.72189e+12\\\\\n",
       "\t 36d9cbb4c6bc0c1a6911436d2da0d09ec625e43e6552f575d4acc9cf487c4686 & 20/05/2024 02:26 & 20/05/2024 02:45 & 1.71617e+12 & 1.71617e+12\\\\\n",
       "\\end{tabular}\n"
      ],
      "text/markdown": [
       "\n",
       "A spec_tbl_df: 1535 × 5\n",
       "\n",
       "| hashedEmail &lt;chr&gt; | start_time &lt;chr&gt; | end_time &lt;chr&gt; | original_start_time &lt;dbl&gt; | original_end_time &lt;dbl&gt; |\n",
       "|---|---|---|---|---|\n",
       "| bfce39c89d6549f2bb94d8064d3ce69dc3d7e72b38f431d8aa0c4bf95ccee6bf | 30/06/2024 18:12 | 30/06/2024 18:24 | 1.71977e+12 | 1.71977e+12 |\n",
       "| 36d9cbb4c6bc0c1a6911436d2da0d09ec625e43e6552f575d4acc9cf487c4686 | 17/06/2024 23:33 | 17/06/2024 23:46 | 1.71867e+12 | 1.71867e+12 |\n",
       "| f8f5477f5a2e53616ae37421b1c660b971192bd8ff77e3398304c7ae42581fdc | 25/07/2024 17:34 | 25/07/2024 17:57 | 1.72193e+12 | 1.72193e+12 |\n",
       "| ⋮ | ⋮ | ⋮ | ⋮ | ⋮ |\n",
       "| fd6563a4e0f6f4273580e5fedbd8dda64990447aea5a33cbb5e894a3867ca44d | 28/07/2024 15:36 | 28/07/2024 15:57 | 1.72218e+12 | 1.72218e+12 |\n",
       "| fd6563a4e0f6f4273580e5fedbd8dda64990447aea5a33cbb5e894a3867ca44d | 25/07/2024 06:15 | 25/07/2024 06:22 | 1.72189e+12 | 1.72189e+12 |\n",
       "| 36d9cbb4c6bc0c1a6911436d2da0d09ec625e43e6552f575d4acc9cf487c4686 | 20/05/2024 02:26 | 20/05/2024 02:45 | 1.71617e+12 | 1.71617e+12 |\n",
       "\n"
      ],
      "text/plain": [
       "     hashedEmail                                                     \n",
       "1    bfce39c89d6549f2bb94d8064d3ce69dc3d7e72b38f431d8aa0c4bf95ccee6bf\n",
       "2    36d9cbb4c6bc0c1a6911436d2da0d09ec625e43e6552f575d4acc9cf487c4686\n",
       "3    f8f5477f5a2e53616ae37421b1c660b971192bd8ff77e3398304c7ae42581fdc\n",
       "⋮    ⋮                                                               \n",
       "1533 fd6563a4e0f6f4273580e5fedbd8dda64990447aea5a33cbb5e894a3867ca44d\n",
       "1534 fd6563a4e0f6f4273580e5fedbd8dda64990447aea5a33cbb5e894a3867ca44d\n",
       "1535 36d9cbb4c6bc0c1a6911436d2da0d09ec625e43e6552f575d4acc9cf487c4686\n",
       "     start_time       end_time         original_start_time original_end_time\n",
       "1    30/06/2024 18:12 30/06/2024 18:24 1.71977e+12         1.71977e+12      \n",
       "2    17/06/2024 23:33 17/06/2024 23:46 1.71867e+12         1.71867e+12      \n",
       "3    25/07/2024 17:34 25/07/2024 17:57 1.72193e+12         1.72193e+12      \n",
       "⋮    ⋮                ⋮                ⋮                   ⋮                \n",
       "1533 28/07/2024 15:36 28/07/2024 15:57 1.72218e+12         1.72218e+12      \n",
       "1534 25/07/2024 06:15 25/07/2024 06:22 1.72189e+12         1.72189e+12      \n",
       "1535 20/05/2024 02:26 20/05/2024 02:45 1.71617e+12         1.71617e+12      "
      ]
     },
     "metadata": {},
     "output_type": "display_data"
    }
   ],
   "source": [
    "# Read players.csv\n",
    "players <- read_csv(\"https://drive.google.com/uc?export=download&id=1Mw9vW0hjTJwRWx0bDXiSpYsO3gKogaPz\")\n",
    "players\n",
    "\n",
    "# Read sessions.csv\n",
    "sessions <- read_csv(\"https://drive.google.com/uc?export=download&id=14O91N5OlVkvdGxXNJUj5jIsV5RexhzbB\")\n",
    "sessions"
   ]
  },
  {
   "cell_type": "markdown",
   "id": "d08e4453-8426-4523-850d-903a7275e74f",
   "metadata": {},
   "source": [
    "To answer our quesiton of How does age and experience level predict the number of hours played? we our going to select the variables experiecne, played hours, and age to create our new data set. \n"
   ]
  },
  {
   "cell_type": "code",
   "execution_count": 3,
   "id": "f754adb3-5acb-4b22-8e3d-0793f07a655e",
   "metadata": {},
   "outputs": [
    {
     "data": {
      "text/html": [
       "<table class=\"dataframe\">\n",
       "<caption>A tibble: 196 × 3</caption>\n",
       "<thead>\n",
       "\t<tr><th scope=col>played_hours</th><th scope=col>age</th><th scope=col>experience</th></tr>\n",
       "\t<tr><th scope=col>&lt;dbl&gt;</th><th scope=col>&lt;dbl&gt;</th><th scope=col>&lt;chr&gt;</th></tr>\n",
       "</thead>\n",
       "<tbody>\n",
       "\t<tr><td>30.3</td><td> 9</td><td>Pro    </td></tr>\n",
       "\t<tr><td> 3.8</td><td>17</td><td>Veteran</td></tr>\n",
       "\t<tr><td> 0.0</td><td>17</td><td>Veteran</td></tr>\n",
       "\t<tr><td>⋮</td><td>⋮</td><td>⋮</td></tr>\n",
       "\t<tr><td>0.0</td><td>17</td><td>Amateur</td></tr>\n",
       "\t<tr><td>2.3</td><td>17</td><td>Amateur</td></tr>\n",
       "\t<tr><td>0.2</td><td>91</td><td>Pro    </td></tr>\n",
       "</tbody>\n",
       "</table>\n"
      ],
      "text/latex": [
       "A tibble: 196 × 3\n",
       "\\begin{tabular}{lll}\n",
       " played\\_hours & age & experience\\\\\n",
       " <dbl> & <dbl> & <chr>\\\\\n",
       "\\hline\n",
       "\t 30.3 &  9 & Pro    \\\\\n",
       "\t  3.8 & 17 & Veteran\\\\\n",
       "\t  0.0 & 17 & Veteran\\\\\n",
       "\t ⋮ & ⋮ & ⋮\\\\\n",
       "\t 0.0 & 17 & Amateur\\\\\n",
       "\t 2.3 & 17 & Amateur\\\\\n",
       "\t 0.2 & 91 & Pro    \\\\\n",
       "\\end{tabular}\n"
      ],
      "text/markdown": [
       "\n",
       "A tibble: 196 × 3\n",
       "\n",
       "| played_hours &lt;dbl&gt; | age &lt;dbl&gt; | experience &lt;chr&gt; |\n",
       "|---|---|---|\n",
       "| 30.3 |  9 | Pro     |\n",
       "|  3.8 | 17 | Veteran |\n",
       "|  0.0 | 17 | Veteran |\n",
       "| ⋮ | ⋮ | ⋮ |\n",
       "| 0.0 | 17 | Amateur |\n",
       "| 2.3 | 17 | Amateur |\n",
       "| 0.2 | 91 | Pro     |\n",
       "\n"
      ],
      "text/plain": [
       "    played_hours age experience\n",
       "1   30.3          9  Pro       \n",
       "2    3.8         17  Veteran   \n",
       "3    0.0         17  Veteran   \n",
       "⋮   ⋮            ⋮   ⋮         \n",
       "194 0.0          17  Amateur   \n",
       "195 2.3          17  Amateur   \n",
       "196 0.2          91  Pro       "
      ]
     },
     "metadata": {},
     "output_type": "display_data"
    }
   ],
   "source": [
    "players_select <- players |>\n",
    "    select(played_hours, age, experience)\n",
    "\n",
    "players_select"
   ]
  },
  {
   "cell_type": "markdown",
   "id": "52e75bb7-91c6-48db-a208-5e8c8d30f7ee",
   "metadata": {},
   "source": [
    "## Discussion"
   ]
  },
  {
   "cell_type": "markdown",
   "id": "118fe393-2e49-4ecf-9543-e120f3b4ccc8",
   "metadata": {},
   "source": []
  },
  {
   "cell_type": "markdown",
   "id": "8f2d3f4d-1de4-4211-b45f-f9c7b211366c",
   "metadata": {},
   "source": [
    "## References"
   ]
  },
  {
   "cell_type": "markdown",
   "id": "8de03a3f-bd11-40aa-bc27-0b40e7f191a3",
   "metadata": {},
   "source": []
  }
 ],
 "metadata": {
  "kernelspec": {
   "display_name": "R",
   "language": "R",
   "name": "ir"
  },
  "language_info": {
   "codemirror_mode": "r",
   "file_extension": ".r",
   "mimetype": "text/x-r-source",
   "name": "R",
   "pygments_lexer": "r",
   "version": "4.3.3"
  }
 },
 "nbformat": 4,
 "nbformat_minor": 5
}
