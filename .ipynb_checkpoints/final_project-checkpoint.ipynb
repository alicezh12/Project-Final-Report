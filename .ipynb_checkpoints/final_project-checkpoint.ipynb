{
 "cells": [
  {
   "cell_type": "markdown",
   "id": "359650d3-f278-4f22-8051-83d6b3a88694",
   "metadata": {},
   "source": [
    "# Title"
   ]
  },
  {
   "cell_type": "markdown",
   "id": "1b9946a2-d789-4366-86c5-60fa2145d030",
   "metadata": {},
   "source": [
    "## Introduction"
   ]
  },
  {
   "cell_type": "markdown",
   "id": "6056d272-d4cb-4fbc-a0a7-faa2194b498b",
   "metadata": {},
   "source": []
  },
  {
   "cell_type": "markdown",
   "id": "06743fe4-bf7c-461a-a77b-59da7dad86fe",
   "metadata": {},
   "source": [
    "**Question**: How do age and experience level predict the number of hours played?"
   ]
  },
  {
   "cell_type": "markdown",
   "id": "0fb9db13-a9de-4891-8ae8-e4e20c3992e9",
   "metadata": {},
   "source": []
  },
  {
   "cell_type": "markdown",
   "id": "164d80ef-92f3-432b-b613-f836830eda8c",
   "metadata": {},
   "source": [
    "## Methods & Results"
   ]
  },
  {
   "cell_type": "markdown",
   "id": "9f22f6f8-70a8-4a03-9990-d00e6df8b6dd",
   "metadata": {},
   "source": []
  },
  {
   "cell_type": "code",
   "execution_count": null,
   "id": "5c537516-8b66-4366-b055-3a9883de45be",
   "metadata": {},
   "outputs": [],
   "source": []
  },
  {
   "cell_type": "markdown",
   "id": "52e75bb7-91c6-48db-a208-5e8c8d30f7ee",
   "metadata": {},
   "source": [
    "## Discussion"
   ]
  },
  {
   "cell_type": "markdown",
   "id": "118fe393-2e49-4ecf-9543-e120f3b4ccc8",
   "metadata": {},
   "source": []
  },
  {
   "cell_type": "markdown",
   "id": "8f2d3f4d-1de4-4211-b45f-f9c7b211366c",
   "metadata": {},
   "source": [
    "## References"
   ]
  },
  {
   "cell_type": "markdown",
   "id": "8de03a3f-bd11-40aa-bc27-0b40e7f191a3",
   "metadata": {},
   "source": []
  }
 ],
 "metadata": {
  "kernelspec": {
   "display_name": "R",
   "language": "R",
   "name": "ir"
  },
  "language_info": {
   "codemirror_mode": "r",
   "file_extension": ".r",
   "mimetype": "text/x-r-source",
   "name": "R",
   "pygments_lexer": "r",
   "version": "4.3.3"
  }
 },
 "nbformat": 4,
 "nbformat_minor": 5
}
