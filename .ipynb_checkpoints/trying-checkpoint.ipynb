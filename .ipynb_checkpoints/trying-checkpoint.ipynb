{
 "cells": [
  {
   "cell_type": "code",
   "execution_count": null,
   "id": "ff8172d6-f411-49dd-9bcf-80cc528bd4a2",
   "metadata": {},
   "outputs": [],
   "source": [
    "testtest\n"
   ]
  }
 ],
 "metadata": {
  "kernelspec": {
   "display_name": "",
   "name": ""
  },
  "language_info": {
   "name": ""
  }
 },
 "nbformat": 4,
 "nbformat_minor": 5
}
