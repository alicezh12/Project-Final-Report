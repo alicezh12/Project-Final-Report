{
 "cells": [
  {
   "cell_type": "code",
   "execution_count": null,
   "id": "ff8172d6-f411-49dd-9bcf-80cc528bd4a2",
   "metadata": {},
   "outputs": [],
   "source": [
    "testtest\n"
   ]
  },
  {
   "cell_type": "code",
   "execution_count": 1,
   "id": "612021df-f8c9-42c6-9fe9-e95168e1f146",
   "metadata": {},
   "outputs": [
    {
     "name": "stdout",
     "output_type": "stream",
     "text": [
      "[1] \"Hello Alex :D\"\n"
     ]
    }
   ],
   "source": [
    "print(\"Hello Alex :D\")"
   ]
  },
  {
   "cell_type": "code",
   "execution_count": null,
   "id": "a53a21a5-2d60-49eb-abdf-8807b9808f95",
   "metadata": {},
   "outputs": [],
   "source": []
  }
 ],
 "metadata": {
  "kernelspec": {
   "display_name": "R",
   "language": "R",
   "name": "ir"
  },
  "language_info": {
   "codemirror_mode": "r",
   "file_extension": ".r",
   "mimetype": "text/x-r-source",
   "name": "R",
   "pygments_lexer": "r",
   "version": "4.3.3"
  }
 },
 "nbformat": 4,
 "nbformat_minor": 5
}
